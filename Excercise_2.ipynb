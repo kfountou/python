{
 "cells": [
  {
   "cell_type": "code",
   "execution_count": 9,
   "metadata": {},
   "outputs": [
    {
     "name": "stdout",
     "output_type": "stream",
     "text": [
      "\n",
      "List_1 =  [5, 8, 11, 111]\n",
      "List_2 =  [3, 23, 25, 44, 75, 88, 100, 112]\n"
     ]
    }
   ],
   "source": [
    "import re\n",
    "lines = []                                # Declare an empty list named \"lines\"\n",
    "lists = []                                # Declare an empty list named \"lists\"\n",
    "  \n",
    "#__________________________Open txt file and extract requested lines__________________________#\n",
    "\n",
    "with open ('commands.txt', 'rt') as in_file:\n",
    "# For each line of text in in_file, where the data is named \"line\"\n",
    "    for line in in_file:\n",
    "        if re.match(\"switchport trunk allowed vlan\", line):\n",
    "# add that line to our list of lines.\n",
    "            lines.append(line)            \n",
    "    #print(\"lines = \",lines)\n",
    "    \n",
    "#__________________________Extract vlans from each filtered lines__________________________#\n",
    "\n",
    "    for row in lines:\n",
    "        row = re.findall(r\"[\\d+]{1,}\", row)\n",
    "        lists.append(row)\n",
    "        #print(\"\\n\",row)\n",
    "    #print(\"\\n Lists = \", lists)\n",
    "    \n",
    "#__________________________Find & display common vlans in ascending order__________________________#\n",
    "\n",
    "#Convert data type to set and find common vlans\n",
    "common_vlans = set.intersection(*map(set, lists))\n",
    "common_vlans_num = []\n",
    "\n",
    "#Convert string chars to numbered ones in order to put them in ascending order\n",
    "for vlan in common_vlans:\n",
    "    common_vlans_num.append(int(vlan))\n",
    "List_1 = sorted(common_vlans_num)\n",
    "print(\"\\nList_1 = \",List_1)\n",
    "\n",
    "#__________________________Print list of all unique vlans__________________________#\n",
    "\n",
    "lists_num = []\n",
    "list_index = 0\n",
    "while list_index < len(lists):\n",
    "    for element in lists[list_index]:\n",
    "        lists_num.append(int(element))\n",
    "    list_index += 1\n",
    "#print(\"Lists_num = \",lists_num)\n",
    "\n",
    "List_2 = []\n",
    "for element in lists_num:\n",
    "    lists_num.count(element)\n",
    "    if lists_num.count(element) == 1:\n",
    "        List_2.append(element)\n",
    "print(\"List_2 = \", sorted(List_2))"
   ]
  },
  {
   "cell_type": "code",
   "execution_count": null,
   "metadata": {
    "collapsed": true
   },
   "outputs": [],
   "source": []
  }
 ],
 "metadata": {
  "kernelspec": {
   "display_name": "Python 3",
   "language": "python",
   "name": "python3"
  },
  "language_info": {
   "codemirror_mode": {
    "name": "ipython",
    "version": 3
   },
   "file_extension": ".py",
   "mimetype": "text/x-python",
   "name": "python",
   "nbconvert_exporter": "python",
   "pygments_lexer": "ipython3",
   "version": "3.6.3"
  }
 },
 "nbformat": 4,
 "nbformat_minor": 2
}
