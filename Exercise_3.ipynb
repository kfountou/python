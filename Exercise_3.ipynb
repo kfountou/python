{
 "cells": [
  {
   "cell_type": "code",
   "execution_count": 2,
   "metadata": {},
   "outputs": [
    {
     "name": "stdout",
     "output_type": "stream",
     "text": [
      "Enter interface mode (access/trunk):access\n",
      "Enter interface type and number:fa 1/2\n",
      "Enter vlan number:3\n",
      "\n",
      "Interface  fa 1/2\n",
      "switchport mode access\n",
      "switchport access vlan  3\n",
      "switchport nonegotiate\n",
      "spanning-tree portfast\n",
      "spanning-tree bpduguard enable\n"
     ]
    }
   ],
   "source": [
    "access_template = ['switchport mode access',\n",
    "\n",
    "'switchport access vlan {}',\n",
    "\n",
    "'switchport nonegotiate',\n",
    "\n",
    "'spanning-tree portfast',\n",
    "\n",
    "'spanning-tree bpduguard enable']\n",
    "\n",
    "trunk_template = ['switchport trunk encapsulation dot1q',\n",
    "\n",
    "'switchport mode trunk',\n",
    "\n",
    "'switchport trunk allowed vlan {}']\n",
    "\n",
    "def Func(VLANs, *args):\n",
    "    for arg in args:\n",
    "        if arg == \"switchport access vlan {}\":\n",
    "            print(\"switchport access vlan \" , VLANs)\n",
    "        elif arg == \"switchport trunk allowed vlan {}\":\n",
    "            print(\"switchport trunk allowed vlan \" , VLANs)\n",
    "        else:\n",
    "            print(arg)\n",
    "            \n",
    "mode = input(\"Enter interface mode (access/trunk):\")\n",
    "interf = input(\"Enter interface type and number:\")\n",
    "\n",
    "if mode == \"access\":\n",
    "    vlan = input (\"Enter vlan number:\")\n",
    "    print(\"\\nInterface \", interf)\n",
    "    Func(vlan, *access_template)\n",
    "elif mode == \"trunk\":\n",
    "    vlans = input(\"Enter allowed VLANs:\")\n",
    "    print(\"\\nInterface \", interf)\n",
    "    Func(vlans, *trunk_template)"
   ]
  },
  {
   "cell_type": "code",
   "execution_count": null,
   "metadata": {
    "collapsed": true
   },
   "outputs": [],
   "source": []
  }
 ],
 "metadata": {
  "kernelspec": {
   "display_name": "Python 3",
   "language": "python",
   "name": "python3"
  },
  "language_info": {
   "codemirror_mode": {
    "name": "ipython",
    "version": 3
   },
   "file_extension": ".py",
   "mimetype": "text/x-python",
   "name": "python",
   "nbconvert_exporter": "python",
   "pygments_lexer": "ipython3",
   "version": "3.6.3"
  }
 },
 "nbformat": 4,
 "nbformat_minor": 2
}
